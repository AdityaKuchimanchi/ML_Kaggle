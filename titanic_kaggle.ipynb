{
 "cells": [
  {
   "cell_type": "code",
   "execution_count": 1,
   "id": "d02e40fd",
   "metadata": {},
   "outputs": [],
   "source": [
    "# import libraries\n",
    "import pandas as pd\n",
    "import numpy as np\n",
    "from sklearn.preprocessing import LabelEncoder\n",
    "from sklearn.metrics import precision_score\n",
    "from sklearn.metrics import accuracy_score"
   ]
  },
  {
   "cell_type": "code",
   "execution_count": 2,
   "id": "1215e391",
   "metadata": {},
   "outputs": [],
   "source": [
    "## read the train and test csv to dataframe using pandas.\n",
    "train_df = pd.read_csv('train.csv')\n",
    "test_df = pd.read_csv('test.csv')"
   ]
  },
  {
   "cell_type": "markdown",
   "id": "ec08b3e5",
   "metadata": {},
   "source": [
    "### Using Sklearn LabelEncoder() to transform the column"
   ]
  },
  {
   "cell_type": "code",
   "execution_count": 3,
   "id": "9580fd62",
   "metadata": {},
   "outputs": [],
   "source": [
    "## apply One hot encoding to Sex column. \n",
    "le = LabelEncoder()\n",
    "train_df_le = train_df\n",
    "train_df_le.Sex = le.fit_transform(train_df_le.Sex)"
   ]
  },
  {
   "cell_type": "code",
   "execution_count": 4,
   "id": "d9673009",
   "metadata": {
    "scrolled": false
   },
   "outputs": [
    {
     "data": {
      "text/html": [
       "<div>\n",
       "<style scoped>\n",
       "    .dataframe tbody tr th:only-of-type {\n",
       "        vertical-align: middle;\n",
       "    }\n",
       "\n",
       "    .dataframe tbody tr th {\n",
       "        vertical-align: top;\n",
       "    }\n",
       "\n",
       "    .dataframe thead th {\n",
       "        text-align: right;\n",
       "    }\n",
       "</style>\n",
       "<table border=\"1\" class=\"dataframe\">\n",
       "  <thead>\n",
       "    <tr style=\"text-align: right;\">\n",
       "      <th></th>\n",
       "      <th>PassengerId</th>\n",
       "      <th>Survived</th>\n",
       "      <th>Pclass</th>\n",
       "      <th>Sex</th>\n",
       "      <th>Age</th>\n",
       "      <th>SibSp</th>\n",
       "      <th>Parch</th>\n",
       "      <th>Fare</th>\n",
       "    </tr>\n",
       "  </thead>\n",
       "  <tbody>\n",
       "    <tr>\n",
       "      <th>count</th>\n",
       "      <td>891.000000</td>\n",
       "      <td>891.000000</td>\n",
       "      <td>891.000000</td>\n",
       "      <td>891.000000</td>\n",
       "      <td>714.000000</td>\n",
       "      <td>891.000000</td>\n",
       "      <td>891.000000</td>\n",
       "      <td>891.000000</td>\n",
       "    </tr>\n",
       "    <tr>\n",
       "      <th>mean</th>\n",
       "      <td>446.000000</td>\n",
       "      <td>0.383838</td>\n",
       "      <td>2.308642</td>\n",
       "      <td>0.647587</td>\n",
       "      <td>29.699118</td>\n",
       "      <td>0.523008</td>\n",
       "      <td>0.381594</td>\n",
       "      <td>32.204208</td>\n",
       "    </tr>\n",
       "    <tr>\n",
       "      <th>std</th>\n",
       "      <td>257.353842</td>\n",
       "      <td>0.486592</td>\n",
       "      <td>0.836071</td>\n",
       "      <td>0.477990</td>\n",
       "      <td>14.526497</td>\n",
       "      <td>1.102743</td>\n",
       "      <td>0.806057</td>\n",
       "      <td>49.693429</td>\n",
       "    </tr>\n",
       "    <tr>\n",
       "      <th>min</th>\n",
       "      <td>1.000000</td>\n",
       "      <td>0.000000</td>\n",
       "      <td>1.000000</td>\n",
       "      <td>0.000000</td>\n",
       "      <td>0.420000</td>\n",
       "      <td>0.000000</td>\n",
       "      <td>0.000000</td>\n",
       "      <td>0.000000</td>\n",
       "    </tr>\n",
       "    <tr>\n",
       "      <th>25%</th>\n",
       "      <td>223.500000</td>\n",
       "      <td>0.000000</td>\n",
       "      <td>2.000000</td>\n",
       "      <td>0.000000</td>\n",
       "      <td>20.125000</td>\n",
       "      <td>0.000000</td>\n",
       "      <td>0.000000</td>\n",
       "      <td>7.910400</td>\n",
       "    </tr>\n",
       "    <tr>\n",
       "      <th>50%</th>\n",
       "      <td>446.000000</td>\n",
       "      <td>0.000000</td>\n",
       "      <td>3.000000</td>\n",
       "      <td>1.000000</td>\n",
       "      <td>28.000000</td>\n",
       "      <td>0.000000</td>\n",
       "      <td>0.000000</td>\n",
       "      <td>14.454200</td>\n",
       "    </tr>\n",
       "    <tr>\n",
       "      <th>75%</th>\n",
       "      <td>668.500000</td>\n",
       "      <td>1.000000</td>\n",
       "      <td>3.000000</td>\n",
       "      <td>1.000000</td>\n",
       "      <td>38.000000</td>\n",
       "      <td>1.000000</td>\n",
       "      <td>0.000000</td>\n",
       "      <td>31.000000</td>\n",
       "    </tr>\n",
       "    <tr>\n",
       "      <th>max</th>\n",
       "      <td>891.000000</td>\n",
       "      <td>1.000000</td>\n",
       "      <td>3.000000</td>\n",
       "      <td>1.000000</td>\n",
       "      <td>80.000000</td>\n",
       "      <td>8.000000</td>\n",
       "      <td>6.000000</td>\n",
       "      <td>512.329200</td>\n",
       "    </tr>\n",
       "  </tbody>\n",
       "</table>\n",
       "</div>"
      ],
      "text/plain": [
       "       PassengerId    Survived      Pclass         Sex         Age  \\\n",
       "count   891.000000  891.000000  891.000000  891.000000  714.000000   \n",
       "mean    446.000000    0.383838    2.308642    0.647587   29.699118   \n",
       "std     257.353842    0.486592    0.836071    0.477990   14.526497   \n",
       "min       1.000000    0.000000    1.000000    0.000000    0.420000   \n",
       "25%     223.500000    0.000000    2.000000    0.000000   20.125000   \n",
       "50%     446.000000    0.000000    3.000000    1.000000   28.000000   \n",
       "75%     668.500000    1.000000    3.000000    1.000000   38.000000   \n",
       "max     891.000000    1.000000    3.000000    1.000000   80.000000   \n",
       "\n",
       "            SibSp       Parch        Fare  \n",
       "count  891.000000  891.000000  891.000000  \n",
       "mean     0.523008    0.381594   32.204208  \n",
       "std      1.102743    0.806057   49.693429  \n",
       "min      0.000000    0.000000    0.000000  \n",
       "25%      0.000000    0.000000    7.910400  \n",
       "50%      0.000000    0.000000   14.454200  \n",
       "75%      1.000000    0.000000   31.000000  \n",
       "max      8.000000    6.000000  512.329200  "
      ]
     },
     "execution_count": 4,
     "metadata": {},
     "output_type": "execute_result"
    }
   ],
   "source": [
    "## dataset describe\n",
    "train_df_le.describe()"
   ]
  },
  {
   "cell_type": "markdown",
   "id": "f4226938",
   "metadata": {},
   "source": [
    "### Filling NaN data with mean() for the column Age"
   ]
  },
  {
   "cell_type": "code",
   "execution_count": 5,
   "id": "56af323e",
   "metadata": {},
   "outputs": [],
   "source": [
    "## fill NaN with mean\n",
    "train_df_le.Age.fillna(train_df_le.Age.mean(),inplace=True)"
   ]
  },
  {
   "cell_type": "markdown",
   "id": "b76f0aaf",
   "metadata": {},
   "source": [
    "### Split the data in to train and test sets with test_size of 0.2"
   ]
  },
  {
   "cell_type": "code",
   "execution_count": 6,
   "id": "b2e9de3f",
   "metadata": {},
   "outputs": [],
   "source": [
    "## spliting the dataset\n",
    "from sklearn.model_selection import train_test_split\n",
    "X_train, X_test, y_train, y_test = train_test_split(train_df_le.drop(['Survived','Name','Ticket','Fare','Cabin','Embarked'], axis=\"columns\"), train_df_le['Survived'], test_size=0.2, random_state=0)\n",
    "\n"
   ]
  },
  {
   "cell_type": "markdown",
   "id": "7fc68739",
   "metadata": {},
   "source": [
    "### Import model for training the dataset\n",
    "Here the models which are used are imported from the sklearn python package. By using the score of the three model we can suggest which model is best fit."
   ]
  },
  {
   "cell_type": "code",
   "execution_count": 7,
   "id": "de90b7c1",
   "metadata": {},
   "outputs": [],
   "source": [
    "## model fit and predict function which return the score of the model\n",
    "def model_score(model, X_train=None, X_test=None, y_train=None, y_test=None):\n",
    "    model.fit(X_train, y_train)\n",
    "    y_pred = model.predict(X_test)\n",
    "    return model.score(X_test,y_test), y_pred"
   ]
  },
  {
   "cell_type": "code",
   "execution_count": 8,
   "id": "d94f29fc",
   "metadata": {},
   "outputs": [
    {
     "name": "stdout",
     "output_type": "stream",
     "text": [
      "Decision Tree Model Score: 0.7932960893854749\n",
      "Precision: 0.7666666666666667\n",
      "Accuracy: 0.7932960893854749\n"
     ]
    }
   ],
   "source": [
    "## decision Tree classification model\n",
    "from sklearn.tree import DecisionTreeClassifier\n",
    "model_dtc = DecisionTreeClassifier()\n",
    "model_score_dtc, y_pred_dtc = model_score(model_dtc, X_train, X_test, y_train, y_test)\n",
    "print(\"Decision Tree Model Score: \" + str(model_score_dtc))\n",
    "print(\"Precision: \" + str(precision_score(y_test, y_pred_dtc)))\n",
    "print(\"Accuracy: \" + str(accuracy_score(y_test, y_pred_dtc)))"
   ]
  },
  {
   "cell_type": "code",
   "execution_count": 9,
   "id": "c943e0d5",
   "metadata": {},
   "outputs": [
    {
     "name": "stdout",
     "output_type": "stream",
     "text": [
      "SVM Model Score: 0.6145251396648045\n",
      "Precision: 0.0\n",
      "Accuracy: 0.6145251396648045\n"
     ]
    },
    {
     "name": "stderr",
     "output_type": "stream",
     "text": [
      "/Users/adityakuchimanchi/anaconda3/lib/python3.11/site-packages/sklearn/metrics/_classification.py:1469: UndefinedMetricWarning: Precision is ill-defined and being set to 0.0 due to no predicted samples. Use `zero_division` parameter to control this behavior.\n",
      "  _warn_prf(average, modifier, msg_start, len(result))\n"
     ]
    }
   ],
   "source": [
    "## support vector machine model\n",
    "from sklearn.svm import SVC\n",
    "model_svc = SVC()\n",
    "model_score_svm, y_pred_svm = model_score(model_svc, X_train, X_test, y_train, y_test)\n",
    "print(\"SVM Model Score: \" + str(model_score_svm))\n",
    "print(\"Precision: \" + str(precision_score(y_test, y_pred_svm)))\n",
    "print(\"Accuracy: \" + str(accuracy_score(y_test, y_pred_svm)))"
   ]
  },
  {
   "cell_type": "code",
   "execution_count": 10,
   "id": "f77e6927",
   "metadata": {},
   "outputs": [
    {
     "name": "stdout",
     "output_type": "stream",
     "text": [
      "RandomForest Model Score: 0.8324022346368715\n",
      "Precision: 0.819672131147541\n",
      "Accuracy: 0.8324022346368715\n"
     ]
    }
   ],
   "source": [
    "## random forest classification model\n",
    "from sklearn.ensemble import RandomForestClassifier\n",
    "model_rfc = RandomForestClassifier(n_estimators=150)\n",
    "model_score_rfc, y_pred_rfc = model_score(model_rfc, X_train, X_test, y_train, y_test)\n",
    "print(\"RandomForest Model Score: \" + str(model_score_rfc))\n",
    "print(\"Precision: \" + str(precision_score(y_test, y_pred_rfc)))\n",
    "print(\"Accuracy: \" + str(accuracy_score(y_test, y_pred_rfc)))"
   ]
  },
  {
   "cell_type": "markdown",
   "id": "256d91c1",
   "metadata": {},
   "source": [
    "#### From the above three models the score, precision and accurary, It can be implied that random forest classification has the best fit model for the data given, since it is binary classification problem. Although decision tree classifier performed better, the score of that model is less compared to random forest classification."
   ]
  },
  {
   "cell_type": "markdown",
   "id": "1fcce6c5",
   "metadata": {},
   "source": [
    "## Testing with test dataset without Survived column"
   ]
  },
  {
   "cell_type": "code",
   "execution_count": 11,
   "id": "1c016e40",
   "metadata": {},
   "outputs": [],
   "source": [
    "## transforming the Sex column using label encoder.\n",
    "test_df_le = test_df\n",
    "test_df_le.Sex = le.fit_transform(test_df_le.Sex)\n",
    "X_test_df = test_df_le.drop(['Name','Ticket','Fare','Cabin','Embarked'], axis=\"columns\")"
   ]
  },
  {
   "cell_type": "code",
   "execution_count": 12,
   "id": "cca8d683",
   "metadata": {},
   "outputs": [],
   "source": [
    "## removing the NaN data in Age column and fill with mean\n",
    "X_test_df.isna().any()\n",
    "X_test_df.Age.fillna(X_test_df.Age.mean(), inplace=True)"
   ]
  },
  {
   "cell_type": "code",
   "execution_count": 13,
   "id": "d015a7d4",
   "metadata": {},
   "outputs": [],
   "source": [
    "## predict the survived using the test dataset\n",
    "X_test_df['Survived']=y_predict=model_rfc.predict(X_test_df)"
   ]
  },
  {
   "cell_type": "code",
   "execution_count": 14,
   "id": "b2900311",
   "metadata": {},
   "outputs": [],
   "source": [
    "## writing the data to CSV for kaggle submission.\n",
    "X_test_df.drop(['Sex','Pclass','Age','SibSp','Parch'],axis='columns').to_csv('gender_submission.csv', index=False)"
   ]
  }
 ],
 "metadata": {
  "kernelspec": {
   "display_name": "Python 3 (ipykernel)",
   "language": "python",
   "name": "python3"
  },
  "language_info": {
   "codemirror_mode": {
    "name": "ipython",
    "version": 3
   },
   "file_extension": ".py",
   "mimetype": "text/x-python",
   "name": "python",
   "nbconvert_exporter": "python",
   "pygments_lexer": "ipython3",
   "version": "3.11.5"
  }
 },
 "nbformat": 4,
 "nbformat_minor": 5
}
